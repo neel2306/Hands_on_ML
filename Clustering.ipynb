{
 "cells": [
  {
   "cell_type": "code",
   "execution_count": 1,
   "id": "602bc134",
   "metadata": {},
   "outputs": [],
   "source": [
    "from sklearn.cluster import KMeans\n",
    "from sklearn.datasets import make_blobs"
   ]
  },
  {
   "cell_type": "code",
   "execution_count": 3,
   "id": "df33dc4f",
   "metadata": {},
   "outputs": [],
   "source": [
    "X, y = make_blobs()"
   ]
  },
  {
   "cell_type": "code",
   "execution_count": 4,
   "id": "c7b22c11",
   "metadata": {},
   "outputs": [],
   "source": [
    "k = 5"
   ]
  },
  {
   "cell_type": "code",
   "execution_count": 5,
   "id": "28c33411",
   "metadata": {},
   "outputs": [],
   "source": [
    "kmeans = KMeans(n_clusters=k, random_state=42)\n",
    "y_pred = kmeans.fit_predict(X)"
   ]
  },
  {
   "cell_type": "code",
   "execution_count": 6,
   "id": "b9348701",
   "metadata": {},
   "outputs": [
    {
     "data": {
      "text/plain": [
       "array([4, 2, 1, 4, 2, 0, 0, 2, 3, 1, 4, 4, 1, 0, 4, 0, 4, 2, 1, 1, 4, 4,\n",
       "       4, 1, 1, 3, 3, 1, 1, 1, 3, 1, 1, 3, 2, 3, 1, 1, 1, 3, 3, 3, 1, 3,\n",
       "       0, 4, 1, 2, 4, 2, 2, 1, 0, 2, 1, 3, 0, 4, 4, 3, 1, 4, 4, 3, 1, 0,\n",
       "       3, 0, 0, 2, 3, 1, 2, 1, 0, 2, 1, 2, 1, 3, 3, 0, 1, 4, 3, 0, 1, 0,\n",
       "       1, 2, 2, 4, 1, 2, 1, 3, 4, 1, 1, 1], dtype=int32)"
      ]
     },
     "execution_count": 6,
     "metadata": {},
     "output_type": "execute_result"
    }
   ],
   "source": [
    "y_pred"
   ]
  },
  {
   "cell_type": "code",
   "execution_count": 7,
   "id": "c1c8c812",
   "metadata": {},
   "outputs": [
    {
     "data": {
      "text/plain": [
       "array([[ 3.67624643,  5.53659069],\n",
       "       [ 9.06608486, -9.83811304],\n",
       "       [-1.61183894, -3.45543162],\n",
       "       [ 2.03401615,  6.02967256],\n",
       "       [-2.6658586 , -4.81000377]])"
      ]
     },
     "execution_count": 7,
     "metadata": {},
     "output_type": "execute_result"
    }
   ],
   "source": [
    "kmeans.cluster_centers_"
   ]
  },
  {
   "cell_type": "code",
   "execution_count": 8,
   "id": "55ba759b",
   "metadata": {},
   "outputs": [
    {
     "data": {
      "text/plain": [
       "array([3, 0, 3, 2], dtype=int32)"
      ]
     },
     "execution_count": 8,
     "metadata": {},
     "output_type": "execute_result"
    }
   ],
   "source": [
    "import numpy as np\n",
    "X_new = np.array([[0,2], [3,2], [-3,3], [-3,2.5]])\n",
    "kmeans.predict(X_new)"
   ]
  },
  {
   "cell_type": "code",
   "execution_count": null,
   "id": "a5b73fe8",
   "metadata": {},
   "outputs": [],
   "source": []
  }
 ],
 "metadata": {
  "kernelspec": {
   "display_name": "Python 3 (ipykernel)",
   "language": "python",
   "name": "python3"
  },
  "language_info": {
   "codemirror_mode": {
    "name": "ipython",
    "version": 3
   },
   "file_extension": ".py",
   "mimetype": "text/x-python",
   "name": "python",
   "nbconvert_exporter": "python",
   "pygments_lexer": "ipython3",
   "version": "3.11.0"
  }
 },
 "nbformat": 4,
 "nbformat_minor": 5
}
